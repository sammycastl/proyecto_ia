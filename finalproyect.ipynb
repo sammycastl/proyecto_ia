{
 "cells": [
  {
   "cell_type": "code",
   "execution_count": 1247,
   "id": "4e00c640-c383-47a3-9833-1e1326da13cb",
   "metadata": {},
   "outputs": [],
   "source": [
    "import numpy as np\n",
    "from PIL import Image\n",
    "import matplotlib.pyplot as plt"
   ]
  },
  {
   "cell_type": "code",
   "execution_count": 1249,
   "id": "8abc4b3a-d35e-419b-8113-48bb3fe6797b",
   "metadata": {},
   "outputs": [],
   "source": [
    "def prepareimage(path, target_size=(600, 800)):\n",
    "    img = Image.open(path).convert('L') \n",
    "    img = img.resize(target_size)\n",
    "    img_array = np.array(img) / 255.0 \n",
    "    return img_array.flatten()  "
   ]
  },
  {
   "cell_type": "code",
   "execution_count": 1251,
   "id": "c0077c73-b8e9-4f94-b7f6-94d0eb050b4c",
   "metadata": {},
   "outputs": [],
   "source": [
    "#red neuronal\n",
    "class NN:\n",
    "    def __init__(self, input_size, hidden_size):\n",
    "        self.W1 = np.random.randn(input_size, hidden_size) * np.sqrt(2./input_size)\n",
    "        self.b1 = np.zeros(hidden_size)\n",
    "        self.W2 = np.random.randn(hidden_size, 1) * np.sqrt(2./hidden_size)\n",
    "        self.b2 = np.zeros(1)\n",
    "        self.dropout_rate = 0.4\n",
    "        self.l2_lambda = 0.01 \n",
    "    \n",
    "    def relu(self, x):\n",
    "        return np.maximum(0, x)\n",
    "    \n",
    "    def sigmoid(self, x):\n",
    "        return 1 / (1 + np.exp(-x))\n",
    "    \n",
    "    def forward(self, x, is_training=True):\n",
    "        self.z1 = np.dot(x, self.W1) + self.b1\n",
    "        self.a1 = self.relu(self.z1)\n",
    "        \n",
    "        if is_training:\n",
    "            self.mask = (np.random.rand(*self.a1.shape) > self.dropout_rate)\n",
    "            self.a1 *= self.mask / (1 - self.dropout_rate)\n",
    "        \n",
    "        self.z2 = np.dot(self.a1, self.W2) + self.b2\n",
    "        return self.sigmoid(self.z2)\n",
    "    \n",
    "    def backpropagation(self, x, y, learning_rate):\n",
    "        m = x.shape[0]\n",
    "\n",
    "        d_z2 = self.a2 - y.reshape(-1, 1)\n",
    "        d_W2 = (1/m) * np.dot(self.a1.T, d_z2) + (self.l2_lambda * self.W2)\n",
    "        d_b2 = (1/m) * np.sum(d_z2, axis=0)\n",
    "        \n",
    "        d_a1 = np.dot(d_z2, self.W2.T)\n",
    "        if hasattr(self, 'mask'):\n",
    "            d_a1 *= self.mask\n",
    "        d_z1 = d_a1 * (self.z1 > 0)  #derivada relu\n",
    "        \n",
    "        d_W1 = (1/m) * np.dot(x.T, d_z1) + (self.l2_lambda * self.W1)\n",
    "        d_b1 = (1/m) * np.sum(d_z1, axis=0)\n",
    "        \n",
    "        self.W1 -= learning_rate * d_W1\n",
    "        self.b1 -= learning_rate * d_b1\n",
    "        self.W2 -= learning_rate * d_W2\n",
    "        self.b2 -= learning_rate * d_b2"
   ]
  },
  {
   "cell_type": "code",
   "execution_count": 1253,
   "id": "b97631b8-04c5-442e-9d64-37aa1a077f9b",
   "metadata": {},
   "outputs": [],
   "source": [
    "X_train = [\n",
    "    load_and_preprocess(\"sammy1.jpg\"),\n",
    "    load_and_preprocess(\"model1.jpg\"),\n",
    "    load_and_preprocess(\"model2.jpg\")\n",
    "]\n",
    "y_train = np.array([1, 0, 0])"
   ]
  },
  {
   "cell_type": "code",
   "execution_count": 1255,
   "id": "c8d404fe-163f-4224-940a-47829156cec7",
   "metadata": {},
   "outputs": [],
   "source": [
    "#entrenamiento\n",
    "def train(model, X, y, epochs=1000, lr=0.0001):\n",
    "    loss_history = []\n",
    "    X = np.array(X)\n",
    "    \n",
    "    for epoch in range(epochs):\n",
    "        \n",
    "        model.a2 = model.forward(X)\n",
    "        loss = -np.mean(y * np.log(model.a2) + (1-y) * np.log(1-model.a2))\n",
    "        loss_history.append(loss)\n",
    "        \n",
    "        model.backpropagation(X, y, lr)\n",
    "        \n",
    "        #early stop si no hay mejora\n",
    "        if epoch > 50 and (loss_history[-50] - loss) < 1e-5:\n",
    "            print(f\"stop en epoch {epoch}\")\n",
    "            break\n",
    "        \n",
    "        if epoch % 100 == 0:\n",
    "            print(f\"Epoch {epoch}, Loss: {loss:.4f}\")"
   ]
  },
  {
   "cell_type": "code",
   "execution_count": 1257,
   "id": "ea5df758-c484-441d-884c-26434478a824",
   "metadata": {},
   "outputs": [
    {
     "name": "stdout",
     "output_type": "stream",
     "text": [
      "Epoch 0, Loss: 0.7738\n",
      "stop en epoch 51\n"
     ]
    }
   ],
   "source": [
    "input_size = 600 * 800  \n",
    "model = NN(input_size, hidden_size=128)  # cantidad de neuronas ocultas\n",
    "train(model, X_train, y_train, epochs=1000, lr=0.0001)"
   ]
  },
  {
   "cell_type": "code",
   "execution_count": 1287,
   "id": "362f2eea-ef22-436d-9193-e828c5834d76",
   "metadata": {},
   "outputs": [],
   "source": [
    "#pruebas\n",
    "def predict(image_path, model):\n",
    "    img = prepareimage(image_path)\n",
    "    pred = model.forward(img, is_training=False)\n",
    "    prob = pred[0]\n",
    "    return f\" {prob:.2%}, {'es sammy' if prob > 0.80 else 'no es sammy'}\""
   ]
  },
  {
   "cell_type": "code",
   "execution_count": 1289,
   "id": "1953cb00-a775-4770-b2b5-aeb6fe40c005",
   "metadata": {},
   "outputs": [
    {
     "name": "stdout",
     "output_type": "stream",
     "text": [
      " 92.29%, es sammy\n"
     ]
    }
   ],
   "source": [
    "print(predict(\"sammy1.jpg\", model))"
   ]
  },
  {
   "cell_type": "code",
   "execution_count": null,
   "id": "324009dd-f89a-48ca-8321-a97a0d8c6dc5",
   "metadata": {},
   "outputs": [],
   "source": []
  }
 ],
 "metadata": {
  "kernelspec": {
   "display_name": "Python [conda env:base] *",
   "language": "python",
   "name": "conda-base-py"
  },
  "language_info": {
   "codemirror_mode": {
    "name": "ipython",
    "version": 3
   },
   "file_extension": ".py",
   "mimetype": "text/x-python",
   "name": "python",
   "nbconvert_exporter": "python",
   "pygments_lexer": "ipython3",
   "version": "3.12.7"
  }
 },
 "nbformat": 4,
 "nbformat_minor": 5
}
